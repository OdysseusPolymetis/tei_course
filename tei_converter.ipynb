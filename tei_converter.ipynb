{
  "cells": [
    {
      "cell_type": "markdown",
      "metadata": {
        "id": "view-in-github",
        "colab_type": "text"
      },
      "source": [
        "<a href=\"https://colab.research.google.com/github/OdysseusPolymetis/tei_course/blob/main/tei_converter.ipynb\" target=\"_parent\"><img src=\"https://colab.research.google.com/assets/colab-badge.svg\" alt=\"Open In Colab\"/></a>"
      ]
    },
    {
      "cell_type": "markdown",
      "metadata": {
        "id": "Z6OB9LNqsl8W"
      },
      "source": [
        "# **Convertisseur TEI basé sur Odette**"
      ]
    },
    {
      "cell_type": "markdown",
      "metadata": {
        "id": "k3q_1xwyswKS"
      },
      "source": [
        "Odette a disparu et c'était quand même bien pratique. Du coup, pour aider les étudiants à utiliser quand même le service, un petit notebook pratique."
      ]
    },
    {
      "cell_type": "markdown",
      "metadata": {
        "id": "w9qJONT0tgiD"
      },
      "source": [
        "D'abord, vous avez accès au template en `odt`dans la cellule suivante, mais aussi [à cette adresse](https://github.com/OdysseusPolymetis/tei_course/blob/main/template.odt)."
      ]
    },
    {
      "cell_type": "code",
      "execution_count": null,
      "metadata": {
        "id": "0YtJBrxFsjFm"
      },
      "outputs": [],
      "source": [
        "!wget https://github.com/OdysseusPolymetis/tei_course/raw/refs/heads/main/template.odt"
      ]
    },
    {
      "cell_type": "markdown",
      "metadata": {
        "id": "dsNJr2WAvZZs"
      },
      "source": [
        "Ici vous obtiendrez le programme `php` qui fait la transformation. Ne vous inquiétez pas, vous n'aurez rien à installer."
      ]
    },
    {
      "cell_type": "code",
      "execution_count": null,
      "metadata": {
        "id": "4XdmLRmSxIYG"
      },
      "outputs": [],
      "source": [
        "!git clone https://github.com/OdysseusPolymetis/tei_course.git"
      ]
    },
    {
      "cell_type": "code",
      "source": [
        "!apt-get install -y php-cli php-xml php-zip"
      ],
      "metadata": {
        "id": "9668CayYeLfO"
      },
      "execution_count": null,
      "outputs": []
    },
    {
      "cell_type": "code",
      "source": [
        "!php ./tei_course/odette/odette.php /content/template.odt /content/output.xml"
      ],
      "metadata": {
        "colab": {
          "base_uri": "https://localhost:8080/"
        },
        "id": "L_e7RT-EeqWK",
        "outputId": "da7f5708-205b-444a-f194-a17799d1ad11"
      },
      "execution_count": 4,
      "outputs": [
        {
          "output_type": "stream",
          "name": "stdout",
          "text": [
            "[info] 09:49:08 Odette\n",
            "[info] 09:49:08 1. /content/template.odt > /content/template.xml\n"
          ]
        }
      ]
    },
    {
      "cell_type": "code",
      "source": [],
      "metadata": {
        "id": "SilM9h8zfbAn"
      },
      "execution_count": null,
      "outputs": []
    }
  ],
  "metadata": {
    "colab": {
      "provenance": [],
      "authorship_tag": "ABX9TyPxEXl/QlN9bwFuG7KPnbiB",
      "include_colab_link": true
    },
    "kernelspec": {
      "display_name": "Python 3",
      "name": "python3"
    },
    "language_info": {
      "name": "python"
    }
  },
  "nbformat": 4,
  "nbformat_minor": 0
}